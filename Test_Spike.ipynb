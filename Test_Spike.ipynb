{
  "nbformat": 4,
  "nbformat_minor": 0,
  "metadata": {
    "colab": {
      "name": "Test_Spike.ipynb",
      "provenance": [],
      "collapsed_sections": []
    },
    "kernelspec": {
      "name": "python3",
      "display_name": "Python 3"
    }
  },
  "cells": [
    {
      "cell_type": "markdown",
      "metadata": {
        "id": "c02j_-p6TZ2r",
        "colab_type": "text"
      },
      "source": [
        "#Intro"
      ]
    },
    {
      "cell_type": "code",
      "metadata": {
        "id": "A4n58fkig5KL",
        "colab_type": "code",
        "colab": {}
      },
      "source": [
        "import matplotlib.pyplot as plt\n",
        "import collections\n",
        "\n",
        "import unicodedata\n",
        "import re\n",
        "import numpy as np\n",
        "import os\n",
        "import io\n",
        "import itertools\n",
        "\n",
        "\n",
        "import random\n",
        "import pickle\n",
        "import os\n",
        "sep = os.sep\n",
        "import os.path\n",
        "\n",
        "import pandas as pd\n",
        "import bisect\n",
        "import time\n",
        "import scipy.stats as stats\n",
        "\n",
        "import datetime\n",
        "\n",
        "import glob"
      ],
      "execution_count": 0,
      "outputs": []
    },
    {
      "cell_type": "code",
      "metadata": {
        "id": "QeqX7HRpBigk",
        "colab_type": "code",
        "colab": {}
      },
      "source": [
        "\n",
        "from sklearn.model_selection import KFold, train_test_split\n",
        "from sklearn.linear_model import LinearRegression\n",
        "from sklearn import preprocessing\n",
        "from sklearn.feature_extraction.text import CountVectorizer, TfidfVectorizer\n",
        "\n",
        "from sklearn import metrics\n",
        "from sklearn.linear_model import SGDClassifier, LogisticRegression\n",
        "from sklearn.feature_extraction.text import CountVectorizer, TfidfVectorizer\n",
        "from sklearn.neural_network import MLPClassifier\n",
        "from sklearn.neighbors import KNeighborsClassifier\n",
        "from sklearn.svm import SVC\n",
        "from sklearn.gaussian_process import GaussianProcessClassifier\n",
        "from sklearn.gaussian_process.kernels import RBF\n",
        "from sklearn.tree import DecisionTreeClassifier\n",
        "from sklearn.ensemble import RandomForestClassifier, AdaBoostClassifier, VotingClassifier\n",
        "from sklearn.naive_bayes import GaussianNB\n",
        "from sklearn.discriminant_analysis import QuadraticDiscriminantAnalysis\n",
        "from sklearn.dummy import DummyClassifier\n",
        "\n",
        "import warnings; warnings.simplefilter('ignore')\n",
        "from collections import Counter\n"
      ],
      "execution_count": 0,
      "outputs": []
    },
    {
      "cell_type": "code",
      "metadata": {
        "id": "y7FnFzlkb3RY",
        "colab_type": "code",
        "colab": {}
      },
      "source": [
        "from sklearn.preprocessing import LabelEncoder, OneHotEncoder"
      ],
      "execution_count": 0,
      "outputs": []
    },
    {
      "cell_type": "markdown",
      "metadata": {
        "id": "s6m5UOXClc5v",
        "colab_type": "text"
      },
      "source": [
        "#1: Download Data"
      ]
    },
    {
      "cell_type": "code",
      "metadata": {
        "id": "rSPLAMHpeFkX",
        "colab_type": "code",
        "outputId": "ab40332c-3d54-48d1-e4e1-e0f1832839ff",
        "colab": {
          "base_uri": "https://localhost:8080/",
          "height": 204
        }
      },
      "source": [
        "!wget \"https://github.com/SpikeLab-CL/desafio_spike_cuencas/blob/master/caudal_extra.csv.zip\"\n",
        "\n",
        "#ESTO NO SE PORQUE NO FUNCIONO, TUVE QUE SUBIR EL ARCHIVO A MI DRIVE Y DESCARGARLO DESDE AHI\n",
        "#!unzip /content/caudal_extra.csv.zip\n",
        "\n",
        "path_data = ''\n"
      ],
      "execution_count": 5,
      "outputs": [
        {
          "output_type": "stream",
          "text": [
            "--2019-10-15 04:31:49--  https://github.com/SpikeLab-CL/desafio_spike_cuencas/blob/master/caudal_extra.csv.zip\n",
            "Resolving github.com (github.com)... 140.82.113.4\n",
            "Connecting to github.com (github.com)|140.82.113.4|:443... connected.\n",
            "HTTP request sent, awaiting response... 200 OK\n",
            "Length: unspecified [text/html]\n",
            "Saving to: ‘caudal_extra.csv.zip.1’\n",
            "\n",
            "\rcaudal_extra.csv.zi     [<=>                 ]       0  --.-KB/s               \rcaudal_extra.csv.zi     [ <=>                ]  64.69K  --.-KB/s    in 0.03s   \n",
            "\n",
            "2019-10-15 04:31:50 (2.50 MB/s) - ‘caudal_extra.csv.zip.1’ saved [66244]\n",
            "\n"
          ],
          "name": "stdout"
        }
      ]
    },
    {
      "cell_type": "code",
      "metadata": {
        "id": "R3QjBnH6lktK",
        "colab_type": "code",
        "outputId": "ffee19e5-2c11-4805-fe30-47a8cfb33e84",
        "colab": {
          "base_uri": "https://localhost:8080/",
          "height": 34
        }
      },
      "source": [
        "# Load the Drive helper and mount\n",
        "from google.colab import drive\n",
        "\n",
        "# This will prompt for authorization.\n",
        "drive.mount('/content/drive', force_remount=True)\n",
        "path_data = 'drive/My Drive/Colab Notebooks/Spike_Test/Data/'\n"
      ],
      "execution_count": 6,
      "outputs": [
        {
          "output_type": "stream",
          "text": [
            "Mounted at /content/drive\n"
          ],
          "name": "stdout"
        }
      ]
    },
    {
      "cell_type": "code",
      "metadata": {
        "id": "mKnskzj5wx-n",
        "colab_type": "code",
        "colab": {}
      },
      "source": [
        "data = pd.read_csv(path_data+\"caudal_extra.csv.zip\")\n"
      ],
      "execution_count": 0,
      "outputs": []
    },
    {
      "cell_type": "markdown",
      "metadata": {
        "id": "5cXpxE40GDlF",
        "colab_type": "text"
      },
      "source": [
        "#2: "
      ]
    },
    {
      "cell_type": "code",
      "metadata": {
        "id": "dsIgj_ahrBdQ",
        "colab_type": "code",
        "colab": {
          "base_uri": "https://localhost:8080/",
          "height": 284
        },
        "outputId": "287fa578-a3e8-4bcb-da92-be8c7d2789be"
      },
      "source": [
        "data.head(2)"
      ],
      "execution_count": 8,
      "outputs": [
        {
          "output_type": "execute_result",
          "data": {
            "text/html": [
              "<div>\n",
              "<style scoped>\n",
              "    .dataframe tbody tr th:only-of-type {\n",
              "        vertical-align: middle;\n",
              "    }\n",
              "\n",
              "    .dataframe tbody tr th {\n",
              "        vertical-align: top;\n",
              "    }\n",
              "\n",
              "    .dataframe thead th {\n",
              "        text-align: right;\n",
              "    }\n",
              "</style>\n",
              "<table border=\"1\" class=\"dataframe\">\n",
              "  <thead>\n",
              "    <tr style=\"text-align: right;\">\n",
              "      <th></th>\n",
              "      <th>Unnamed: 0</th>\n",
              "      <th>codigo_estacion</th>\n",
              "      <th>institucion</th>\n",
              "      <th>fuente</th>\n",
              "      <th>nombre</th>\n",
              "      <th>altura</th>\n",
              "      <th>latitud</th>\n",
              "      <th>longitud</th>\n",
              "      <th>codigo_cuenca</th>\n",
              "      <th>nombre_sub_cuenca</th>\n",
              "      <th>cantidad_observaciones</th>\n",
              "      <th>fecha</th>\n",
              "      <th>caudal</th>\n",
              "      <th>gauge_id</th>\n",
              "      <th>gauge_name</th>\n",
              "      <th>precip_promedio</th>\n",
              "      <th>temp_max_promedio</th>\n",
              "    </tr>\n",
              "  </thead>\n",
              "  <tbody>\n",
              "    <tr>\n",
              "      <th>0</th>\n",
              "      <td>0</td>\n",
              "      <td>4540001</td>\n",
              "      <td>DGA</td>\n",
              "      <td>dga_web</td>\n",
              "      <td>Rio Grande En Paloma 1</td>\n",
              "      <td>310</td>\n",
              "      <td>-30.6833</td>\n",
              "      <td>-71.050003</td>\n",
              "      <td>45</td>\n",
              "      <td>Rio Grande Bajo (Entre E Paloma Y Rio Hurtado)</td>\n",
              "      <td>11575</td>\n",
              "      <td>1960-01-06 00:00:00+00:00</td>\n",
              "      <td>0.812</td>\n",
              "      <td>4540001</td>\n",
              "      <td>Rio Grande En Paloma 1</td>\n",
              "      <td>0.0</td>\n",
              "      <td>NaN</td>\n",
              "    </tr>\n",
              "    <tr>\n",
              "      <th>1</th>\n",
              "      <td>1</td>\n",
              "      <td>4540001</td>\n",
              "      <td>DGA</td>\n",
              "      <td>dga_web</td>\n",
              "      <td>Rio Grande En Paloma 1</td>\n",
              "      <td>310</td>\n",
              "      <td>-30.6833</td>\n",
              "      <td>-71.050003</td>\n",
              "      <td>45</td>\n",
              "      <td>Rio Grande Bajo (Entre E Paloma Y Rio Hurtado)</td>\n",
              "      <td>11575</td>\n",
              "      <td>1960-03-27 00:00:00+00:00</td>\n",
              "      <td>0.236</td>\n",
              "      <td>4540001</td>\n",
              "      <td>Rio Grande En Paloma 1</td>\n",
              "      <td>0.0</td>\n",
              "      <td>NaN</td>\n",
              "    </tr>\n",
              "  </tbody>\n",
              "</table>\n",
              "</div>"
            ],
            "text/plain": [
              "   Unnamed: 0  codigo_estacion  ... precip_promedio temp_max_promedio\n",
              "0           0          4540001  ...             0.0               NaN\n",
              "1           1          4540001  ...             0.0               NaN\n",
              "\n",
              "[2 rows x 17 columns]"
            ]
          },
          "metadata": {
            "tags": []
          },
          "execution_count": 8
        }
      ]
    },
    {
      "cell_type": "code",
      "metadata": {
        "id": "qa1zaIYzJSQq",
        "colab_type": "code",
        "outputId": "cbbfd3ee-e753-4029-c511-0e583770849f",
        "colab": {
          "base_uri": "https://localhost:8080/",
          "height": 216
        }
      },
      "source": [
        "data.tail(2)"
      ],
      "execution_count": 9,
      "outputs": [
        {
          "output_type": "execute_result",
          "data": {
            "text/html": [
              "<div>\n",
              "<style scoped>\n",
              "    .dataframe tbody tr th:only-of-type {\n",
              "        vertical-align: middle;\n",
              "    }\n",
              "\n",
              "    .dataframe tbody tr th {\n",
              "        vertical-align: top;\n",
              "    }\n",
              "\n",
              "    .dataframe thead th {\n",
              "        text-align: right;\n",
              "    }\n",
              "</style>\n",
              "<table border=\"1\" class=\"dataframe\">\n",
              "  <thead>\n",
              "    <tr style=\"text-align: right;\">\n",
              "      <th></th>\n",
              "      <th>Unnamed: 0</th>\n",
              "      <th>codigo_estacion</th>\n",
              "      <th>institucion</th>\n",
              "      <th>fuente</th>\n",
              "      <th>nombre</th>\n",
              "      <th>altura</th>\n",
              "      <th>latitud</th>\n",
              "      <th>longitud</th>\n",
              "      <th>codigo_cuenca</th>\n",
              "      <th>nombre_sub_cuenca</th>\n",
              "      <th>cantidad_observaciones</th>\n",
              "      <th>fecha</th>\n",
              "      <th>caudal</th>\n",
              "      <th>gauge_id</th>\n",
              "      <th>gauge_name</th>\n",
              "      <th>precip_promedio</th>\n",
              "      <th>temp_max_promedio</th>\n",
              "    </tr>\n",
              "  </thead>\n",
              "  <tbody>\n",
              "    <tr>\n",
              "      <th>1411178</th>\n",
              "      <td>1411178</td>\n",
              "      <td>7322001</td>\n",
              "      <td>DGA</td>\n",
              "      <td>dga_web</td>\n",
              "      <td>Rio Maule En Longitudinal</td>\n",
              "      <td>90</td>\n",
              "      <td>-35.557499</td>\n",
              "      <td>-71.706703</td>\n",
              "      <td>73</td>\n",
              "      <td>Rio Maule Medio (Entre Rio Claro Y Rio Loncomi...</td>\n",
              "      <td>18006</td>\n",
              "      <td>2018-01-29 00:00:00+00:00</td>\n",
              "      <td>23.682</td>\n",
              "      <td>7322001</td>\n",
              "      <td>Rio Maule En Longitudinal</td>\n",
              "      <td>0.0</td>\n",
              "      <td>27.598333</td>\n",
              "    </tr>\n",
              "    <tr>\n",
              "      <th>1411179</th>\n",
              "      <td>1411179</td>\n",
              "      <td>7322001</td>\n",
              "      <td>DGA</td>\n",
              "      <td>dga_web</td>\n",
              "      <td>Rio Maule En Longitudinal</td>\n",
              "      <td>90</td>\n",
              "      <td>-35.557499</td>\n",
              "      <td>-71.706703</td>\n",
              "      <td>73</td>\n",
              "      <td>Rio Maule Medio (Entre Rio Claro Y Rio Loncomi...</td>\n",
              "      <td>18006</td>\n",
              "      <td>2018-02-11 00:00:00+00:00</td>\n",
              "      <td>18.437</td>\n",
              "      <td>7322001</td>\n",
              "      <td>Rio Maule En Longitudinal</td>\n",
              "      <td>0.0</td>\n",
              "      <td>28.497999</td>\n",
              "    </tr>\n",
              "  </tbody>\n",
              "</table>\n",
              "</div>"
            ],
            "text/plain": [
              "         Unnamed: 0  codigo_estacion  ... precip_promedio temp_max_promedio\n",
              "1411178     1411178          7322001  ...             0.0         27.598333\n",
              "1411179     1411179          7322001  ...             0.0         28.497999\n",
              "\n",
              "[2 rows x 17 columns]"
            ]
          },
          "metadata": {
            "tags": []
          },
          "execution_count": 9
        }
      ]
    },
    {
      "cell_type": "code",
      "metadata": {
        "id": "28wTbn40FY8H",
        "colab_type": "code",
        "outputId": "b645bcae-4a42-46f9-dda0-37e360eeae2d",
        "colab": {
          "base_uri": "https://localhost:8080/",
          "height": 391
        }
      },
      "source": [
        "data.info()"
      ],
      "execution_count": 10,
      "outputs": [
        {
          "output_type": "stream",
          "text": [
            "<class 'pandas.core.frame.DataFrame'>\n",
            "RangeIndex: 1411180 entries, 0 to 1411179\n",
            "Data columns (total 17 columns):\n",
            "Unnamed: 0                1411180 non-null int64\n",
            "codigo_estacion           1411180 non-null int64\n",
            "institucion               1411180 non-null object\n",
            "fuente                    1411180 non-null object\n",
            "nombre                    1411180 non-null object\n",
            "altura                    1411180 non-null int64\n",
            "latitud                   1411180 non-null float64\n",
            "longitud                  1411180 non-null float64\n",
            "codigo_cuenca             1411180 non-null int64\n",
            "nombre_sub_cuenca         1411180 non-null object\n",
            "cantidad_observaciones    1411180 non-null int64\n",
            "fecha                     1411180 non-null object\n",
            "caudal                    1411180 non-null float64\n",
            "gauge_id                  1411180 non-null int64\n",
            "gauge_name                1411180 non-null object\n",
            "precip_promedio           1383413 non-null float64\n",
            "temp_max_promedio         1259617 non-null float64\n",
            "dtypes: float64(5), int64(6), object(6)\n",
            "memory usage: 183.0+ MB\n"
          ],
          "name": "stdout"
        }
      ]
    },
    {
      "cell_type": "code",
      "metadata": {
        "id": "Py4K-vAdr2cS",
        "colab_type": "code",
        "colab": {
          "base_uri": "https://localhost:8080/",
          "height": 323
        },
        "outputId": "22b025b1-3386-4a7f-ccc1-d97c88f4bab5"
      },
      "source": [
        "data.isnull().sum()"
      ],
      "execution_count": 11,
      "outputs": [
        {
          "output_type": "execute_result",
          "data": {
            "text/plain": [
              "Unnamed: 0                     0\n",
              "codigo_estacion                0\n",
              "institucion                    0\n",
              "fuente                         0\n",
              "nombre                         0\n",
              "altura                         0\n",
              "latitud                        0\n",
              "longitud                       0\n",
              "codigo_cuenca                  0\n",
              "nombre_sub_cuenca              0\n",
              "cantidad_observaciones         0\n",
              "fecha                          0\n",
              "caudal                         0\n",
              "gauge_id                       0\n",
              "gauge_name                     0\n",
              "precip_promedio            27767\n",
              "temp_max_promedio         151563\n",
              "dtype: int64"
            ]
          },
          "metadata": {
            "tags": []
          },
          "execution_count": 11
        }
      ]
    },
    {
      "cell_type": "markdown",
      "metadata": {
        "id": "yhD6XoXSGGNg",
        "colab_type": "text"
      },
      "source": [
        "#3: Plots de precipitacion, temperatura y caudal"
      ]
    },
    {
      "cell_type": "markdown",
      "metadata": {
        "id": "5g8-LESGGdmB",
        "colab_type": "text"
      },
      "source": [
        "##3a) Escribir una función que tome como input una estación y haga plot de los datos para una columna."
      ]
    },
    {
      "cell_type": "code",
      "metadata": {
        "id": "DJm8FJFzHWO4",
        "colab_type": "code",
        "colab": {}
      },
      "source": [
        "data[\"tfecha\"] = pd.to_datetime(data[\"fecha\"])\n",
        "data.tfecha = data[\"tfecha\"]\n",
        "data.index = pd.DatetimeIndex(data.tfecha)"
      ],
      "execution_count": 0,
      "outputs": []
    },
    {
      "cell_type": "code",
      "metadata": {
        "id": "0aK2JNGaDxA3",
        "colab_type": "code",
        "colab": {}
      },
      "source": [
        "def time_plot_una_estacion(codigo_estacion, columna, fecha_min, fecha_max):\n",
        "    datatoplot = data[data['codigo_estacion'] == codigo_estacion]\n",
        "    datatoplot = datatoplot[datatoplot.index > fecha_min]\n",
        "    datatoplot = datatoplot[datatoplot.index < fecha_max]\n",
        "    datatoplot[columna].plot()\n"
      ],
      "execution_count": 0,
      "outputs": []
    },
    {
      "cell_type": "code",
      "metadata": {
        "id": "ibiBk6JDtNWl",
        "colab_type": "code",
        "colab": {}
      },
      "source": [
        "codigo_estacion = list(data[\"codigo_estacion\"])[-1]\n",
        "columna = \"caudal\"\n",
        "fecha_min = \"2017-01-01\"\n",
        "fecha_max = \"2017-01-31\"\n",
        "time_plot_una_estacion(codigo_estacion, columna, fecha_min, fecha_max)\n"
      ],
      "execution_count": 0,
      "outputs": []
    },
    {
      "cell_type": "markdown",
      "metadata": {
        "id": "Y_MLZ4rIejFj",
        "colab_type": "text"
      },
      "source": [
        "##3b) Escribir una función que tome como input una estación y haga plot de los datos para una columna."
      ]
    },
    {
      "cell_type": "code",
      "metadata": {
        "id": "pol4_LXpeq3-",
        "colab_type": "code",
        "colab": {}
      },
      "source": [
        "def time_plot_estaciones_varias_columnas(codigo_estacion, columnas, fecha_min, fecha_max):\n",
        "    datatoplot = data[data['codigo_estacion'] == codigo_estacion]\n",
        "    datatoplot = datatoplot[datatoplot.index > fecha_min]\n",
        "    datatoplot = datatoplot[datatoplot.index < fecha_max]\n",
        "    datatoplot[columnas].plot()"
      ],
      "execution_count": 0,
      "outputs": []
    },
    {
      "cell_type": "code",
      "metadata": {
        "id": "xSKWkN11nlRD",
        "colab_type": "code",
        "colab": {}
      },
      "source": [
        "codigo_estacion = list(data[\"codigo_estacion\"])[-1]\n",
        "columnas = [\"caudal\",\"precip_promedio\"]\n",
        "fecha_min = \"2017-01-01\"\n",
        "fecha_max = \"2017-01-31\"\n",
        "time_plot_una_estacion(codigo_estacion, columnas, fecha_min, fecha_max)"
      ],
      "execution_count": 0,
      "outputs": []
    },
    {
      "cell_type": "markdown",
      "metadata": {
        "id": "hMLak4dVj_46",
        "colab_type": "text"
      },
      "source": [
        "#4"
      ]
    },
    {
      "cell_type": "code",
      "metadata": {
        "id": "iNAJjTBTkppz",
        "colab_type": "code",
        "colab": {}
      },
      "source": [
        "data['estacion'] = (data.index.month%12 + 3)//3"
      ],
      "execution_count": 0,
      "outputs": []
    },
    {
      "cell_type": "code",
      "metadata": {
        "id": "8XReIkZze3OJ",
        "colab_type": "code",
        "colab": {}
      },
      "source": [
        "dftest = data.head(1000)"
      ],
      "execution_count": 0,
      "outputs": []
    },
    {
      "cell_type": "code",
      "metadata": {
        "id": "WY8fxM4me3RW",
        "colab_type": "code",
        "colab": {}
      },
      "source": [
        "dftesetgroup = data.groupby(['codigo_estacion','estacion'])[['caudal']].apply(lambda x :pd.Series(x.quantile(.95)))"
      ],
      "execution_count": 0,
      "outputs": []
    },
    {
      "cell_type": "code",
      "metadata": {
        "id": "sZYJhPpOe3Ym",
        "colab_type": "code",
        "outputId": "f37a3e24-0ecd-4e98-8cd7-a0b166c026b8",
        "colab": {
          "base_uri": "https://localhost:8080/",
          "height": 235
        }
      },
      "source": [
        "dftesetgroup.head()"
      ],
      "execution_count": 0,
      "outputs": [
        {
          "output_type": "execute_result",
          "data": {
            "text/html": [
              "<div>\n",
              "<style scoped>\n",
              "    .dataframe tbody tr th:only-of-type {\n",
              "        vertical-align: middle;\n",
              "    }\n",
              "\n",
              "    .dataframe tbody tr th {\n",
              "        vertical-align: top;\n",
              "    }\n",
              "\n",
              "    .dataframe thead th {\n",
              "        text-align: right;\n",
              "    }\n",
              "</style>\n",
              "<table border=\"1\" class=\"dataframe\">\n",
              "  <thead>\n",
              "    <tr style=\"text-align: right;\">\n",
              "      <th></th>\n",
              "      <th>0.95</th>\n",
              "      <th>caudal</th>\n",
              "    </tr>\n",
              "    <tr>\n",
              "      <th>codigo_estacion</th>\n",
              "      <th>estacion</th>\n",
              "      <th></th>\n",
              "    </tr>\n",
              "  </thead>\n",
              "  <tbody>\n",
              "    <tr>\n",
              "      <th rowspan=\"4\" valign=\"top\">1020003</th>\n",
              "      <th>1</th>\n",
              "      <td>1.2400</td>\n",
              "    </tr>\n",
              "    <tr>\n",
              "      <th>2</th>\n",
              "      <td>0.8112</td>\n",
              "    </tr>\n",
              "    <tr>\n",
              "      <th>3</th>\n",
              "      <td>0.2040</td>\n",
              "    </tr>\n",
              "    <tr>\n",
              "      <th>4</th>\n",
              "      <td>0.1113</td>\n",
              "    </tr>\n",
              "    <tr>\n",
              "      <th>1021001</th>\n",
              "      <th>1</th>\n",
              "      <td>13.2000</td>\n",
              "    </tr>\n",
              "  </tbody>\n",
              "</table>\n",
              "</div>"
            ],
            "text/plain": [
              "0.95                       caudal\n",
              "codigo_estacion estacion         \n",
              "1020003         1          1.2400\n",
              "                2          0.8112\n",
              "                3          0.2040\n",
              "                4          0.1113\n",
              "1021001         1         13.2000"
            ]
          },
          "metadata": {
            "tags": []
          },
          "execution_count": 15
        }
      ]
    },
    {
      "cell_type": "code",
      "metadata": {
        "id": "wFL7WAcPpvVt",
        "colab_type": "code",
        "colab": {}
      },
      "source": [
        "def extreme_value(row, var):\n",
        "   return dict_vars[var][(row['codigo_estacion'],row['estacion'])][var] < row[var]"
      ],
      "execution_count": 0,
      "outputs": []
    },
    {
      "cell_type": "code",
      "metadata": {
        "id": "arBguX3ctfAN",
        "colab_type": "code",
        "colab": {}
      },
      "source": [
        "var = 'caudal'\n",
        "dict_vars = {}\n",
        "dict_vars[var] = data.groupby(['codigo_estacion','estacion'])[[var]].apply(lambda x :pd.Series(x.quantile(.95)).to_dict()).to_dict()\n",
        "data[var+'_extremo'] = data.apply (lambda row: extreme_value(row, var), axis=1)"
      ],
      "execution_count": 0,
      "outputs": []
    },
    {
      "cell_type": "code",
      "metadata": {
        "id": "VpIvkUXxpZTz",
        "colab_type": "code",
        "colab": {}
      },
      "source": [
        "var = 'precip_promedio'\n",
        "dict_vars = {}\n",
        "dict_vars[var] = data.groupby(['codigo_estacion','estacion'])[[var]].apply(lambda x :pd.Series(x.quantile(.95)).to_dict()).to_dict()\n",
        "data[var+'_extremo'] = data.apply (lambda row: extreme_value(row, var), axis=1)"
      ],
      "execution_count": 0,
      "outputs": []
    },
    {
      "cell_type": "code",
      "metadata": {
        "id": "tr-GjDCdrXe9",
        "colab_type": "code",
        "colab": {}
      },
      "source": [
        "var = 'temp_max_promedio'\n",
        "dict_vars = {}\n",
        "dict_vars[var] = data.groupby(['codigo_estacion','estacion'])[[var]].apply(lambda x :pd.Series(x.quantile(.95)).to_dict()).to_dict()\n",
        "data[var+'_extremo'] = data.apply (lambda row: extreme_value(row, var), axis=1)"
      ],
      "execution_count": 0,
      "outputs": []
    },
    {
      "cell_type": "code",
      "metadata": {
        "id": "Y8COj1I4r2gD",
        "colab_type": "code",
        "outputId": "65c2b642-d2f8-4e0b-9a1c-e4159afa8625",
        "colab": {
          "base_uri": "https://localhost:8080/",
          "height": 136
        }
      },
      "source": [
        "data[var+'_extremo'].head()"
      ],
      "execution_count": 0,
      "outputs": [
        {
          "output_type": "execute_result",
          "data": {
            "text/plain": [
              "tfecha\n",
              "1960-01-06 00:00:00+00:00    False\n",
              "1960-03-27 00:00:00+00:00    False\n",
              "1960-05-07 00:00:00+00:00    False\n",
              "1960-06-30 00:00:00+00:00    False\n",
              "1960-07-22 00:00:00+00:00    False\n",
              "Name: temp_max_promedio_extremo, dtype: bool"
            ]
          },
          "metadata": {
            "tags": []
          },
          "execution_count": 20
        }
      ]
    },
    {
      "cell_type": "code",
      "metadata": {
        "id": "65L4AyQqr2kM",
        "colab_type": "code",
        "outputId": "b21b357c-964c-4683-cdf3-f3bee69fb4c6",
        "colab": {
          "base_uri": "https://localhost:8080/",
          "height": 54
        }
      },
      "source": [
        "l = sorted(list(data.groupby(['codigo_cuenca'])['caudal_extremo'].sum()))\n",
        "print(l)"
      ],
      "execution_count": 0,
      "outputs": [
        {
          "output_type": "stream",
          "text": [
            "[90.0, 234.0, 313.0, 315.0, 439.0, 477.0, 551.0, 642.0, 771.0, 1043.0, 1079.0, 1279.0, 1454.0, 1471.0, 1745.0, 2422.0, 2746.0, 3133.0, 3564.0, 3747.0, 3768.0, 3804.0, 4020.0, 4142.0, 4286.0, 4466.0, 5226.0, 5754.0, 7382.0]\n"
          ],
          "name": "stdout"
        }
      ]
    },
    {
      "cell_type": "markdown",
      "metadata": {
        "id": "WyRmpogVnHtS",
        "colab_type": "text"
      },
      "source": [
        "#6"
      ]
    },
    {
      "cell_type": "code",
      "metadata": {
        "id": "RCLyb79ootEG",
        "colab_type": "code",
        "outputId": "6751f5fb-d745-4fc8-cfa0-5fd8fa34d795",
        "colab": {
          "base_uri": "https://localhost:8080/",
          "height": 300
        }
      },
      "source": [
        "data[\"caudal_extremo\"].resample('2Y').sum().plot()\n"
      ],
      "execution_count": 0,
      "outputs": [
        {
          "output_type": "execute_result",
          "data": {
            "text/plain": [
              "<matplotlib.axes._subplots.AxesSubplot at 0x7ff5cb405e48>"
            ]
          },
          "metadata": {
            "tags": []
          },
          "execution_count": 22
        },
        {
          "output_type": "display_data",
          "data": {
            "image/png": "[encoded data removed]",
            "text/plain": [
              "<Figure size 432x288 with 1 Axes>"
            ]
          },
          "metadata": {
            "tags": []
          }
        }
      ]
    },
    {
      "cell_type": "code",
      "metadata": {
        "id": "GNQTNJ07mVbb",
        "colab_type": "code",
        "colab": {
          "base_uri": "https://localhost:8080/",
          "height": 287
        },
        "outputId": "1a9015c6-738a-417a-9414-16f5adeeaf5a"
      },
      "source": [
        "data[\"precip_promedio_extremo\"].resample('2Y').sum().plot()\n"
      ],
      "execution_count": 54,
      "outputs": [
        {
          "output_type": "execute_result",
          "data": {
            "text/plain": [
              "<matplotlib.axes._subplots.AxesSubplot at 0x7ff5cb3aa390>"
            ]
          },
          "metadata": {
            "tags": []
          },
          "execution_count": 54
        },
        {
          "output_type": "display_data",
          "data": {
            "image/png": "[encoded data removed]",
            "text/plain": [
              "<Figure size 432x288 with 1 Axes>"
            ]
          },
          "metadata": {
            "tags": []
          }
        }
      ]
    },
    {
      "cell_type": "code",
      "metadata": {
        "id": "7HOF34oGmVl-",
        "colab_type": "code",
        "colab": {
          "base_uri": "https://localhost:8080/",
          "height": 286
        },
        "outputId": "5c2ae506-f97c-4194-844d-de7e991b52c0"
      },
      "source": [
        "data[\"temp_max_promedio_extremo\"].resample('2Y').sum().plot()\n"
      ],
      "execution_count": 55,
      "outputs": [
        {
          "output_type": "execute_result",
          "data": {
            "text/plain": [
              "<matplotlib.axes._subplots.AxesSubplot at 0x7ff5f4f3fd30>"
            ]
          },
          "metadata": {
            "tags": []
          },
          "execution_count": 55
        },
        {
          "output_type": "display_data",
          "data": {
            "image/png": "[encoded data removed]",
            "text/plain": [
              "<Figure size 432x288 with 1 Axes>"
            ]
          },
          "metadata": {
            "tags": []
          }
        }
      ]
    },
    {
      "cell_type": "markdown",
      "metadata": {
        "id": "nJOfgQ5yqpHf",
        "colab_type": "text"
      },
      "source": [
        "#7"
      ]
    },
    {
      "cell_type": "markdown",
      "metadata": {
        "id": "QKimK44Tmm9x",
        "colab_type": "text"
      },
      "source": [
        "Lets see the class distribution."
      ]
    },
    {
      "cell_type": "code",
      "metadata": {
        "id": "g2Wht7qR7BS8",
        "colab_type": "code",
        "outputId": "e7804f2f-9c1c-4e32-e57f-aabe9fa43818",
        "colab": {
          "base_uri": "https://localhost:8080/",
          "height": 34
        }
      },
      "source": [
        "c = Counter(list(data[\"caudal_extremo\"]))\n",
        "c"
      ],
      "execution_count": 0,
      "outputs": [
        {
          "output_type": "execute_result",
          "data": {
            "text/plain": [
              "Counter({False: 1340817, True: 70363})"
            ]
          },
          "metadata": {
            "tags": []
          },
          "execution_count": 23
        }
      ]
    },
    {
      "cell_type": "markdown",
      "metadata": {
        "id": "fLYdfQO5m2uv",
        "colab_type": "text"
      },
      "source": [
        "We are interested in predicting for the next years, so we will consider only recent years from 2010. "
      ]
    },
    {
      "cell_type": "code",
      "metadata": {
        "id": "tMRm8YUrqmKp",
        "colab_type": "code",
        "colab": {}
      },
      "source": [
        "data = data[data.index.year > 2010]"
      ],
      "execution_count": 0,
      "outputs": []
    },
    {
      "cell_type": "markdown",
      "metadata": {
        "id": "1raLrXrQ2kCJ",
        "colab_type": "text"
      },
      "source": [
        "Plot time lapse between samples."
      ]
    },
    {
      "cell_type": "code",
      "metadata": {
        "id": "4KqKrWiopehJ",
        "colab_type": "code",
        "colab": {}
      },
      "source": [
        "data.index.name = None\n",
        "data.sort_values([\"codigo_estacion\",\"tfecha\"], inplace=True)\n",
        "data['delta'] = (data['tfecha']-data['tfecha'].shift()).fillna(0)\n",
        "lapses = data[data[\"delta\"]>=pd.Timedelta(1,'D')]\n",
        "lapses[\"delta\"].value_counts().sort_index()#.plot()"
      ],
      "execution_count": 0,
      "outputs": []
    },
    {
      "cell_type": "markdown",
      "metadata": {
        "id": "ZD6NdRVxoCV9",
        "colab_type": "text"
      },
      "source": [
        "Keep only the rows with measures in consecutive days. We will make predictions for the next day considering the measures from current day."
      ]
    },
    {
      "cell_type": "code",
      "metadata": {
        "id": "tLOJXR0f7qLo",
        "colab_type": "code",
        "outputId": "78aac1f5-38e8-4c02-c689-2fcbd7f13d81",
        "colab": {
          "base_uri": "https://localhost:8080/",
          "height": 51
        }
      },
      "source": [
        "data = data[data[\"delta\"]==pd.Timedelta(1,'D')]\n",
        "data[\"delta\"].value_counts().sort_index()#.plot()"
      ],
      "execution_count": 0,
      "outputs": [
        {
          "output_type": "execute_result",
          "data": {
            "text/plain": [
              "1 days    245075\n",
              "Name: delta, dtype: int64"
            ]
          },
          "metadata": {
            "tags": []
          },
          "execution_count": 35
        }
      ]
    },
    {
      "cell_type": "markdown",
      "metadata": {
        "id": "CMiVrqr3oVrz",
        "colab_type": "text"
      },
      "source": [
        "Keep only rows with measures from the same \"estacion\""
      ]
    },
    {
      "cell_type": "code",
      "metadata": {
        "id": "DQtCz-IMS7bR",
        "colab_type": "code",
        "outputId": "b2818a58-b2e8-4a44-ea52-f895fb6baf7a",
        "colab": {
          "base_uri": "https://localhost:8080/",
          "height": 34
        }
      },
      "source": [
        "data[\"next_codigo_estacion\"] = data[\"codigo_estacion\"].shift(-1)\n",
        "data = data[data[\"codigo_estacion\"]==data[\"next_codigo_estacion\"]]\n"
      ],
      "execution_count": 0,
      "outputs": [
        {
          "output_type": "execute_result",
          "data": {
            "text/plain": [
              "(245075, 24)"
            ]
          },
          "metadata": {
            "tags": []
          },
          "execution_count": 36
        }
      ]
    },
    {
      "cell_type": "markdown",
      "metadata": {
        "id": "41d5uDoIoxtZ",
        "colab_type": "text"
      },
      "source": [
        "Make the classes numerical for sklearn"
      ]
    },
    {
      "cell_type": "code",
      "metadata": {
        "id": "US6LsxH3EmT9",
        "colab_type": "code",
        "colab": {}
      },
      "source": [
        "le = LabelEncoder()\n",
        "data[\"caudal_extremo\"] = le.fit_transform(data[\"caudal_extremo\"])"
      ],
      "execution_count": 0,
      "outputs": []
    },
    {
      "cell_type": "markdown",
      "metadata": {
        "id": "En-Ei_8Vo3Iv",
        "colab_type": "text"
      },
      "source": [
        "Shift the column \"caudal_extremo\" for the predictions."
      ]
    },
    {
      "cell_type": "code",
      "metadata": {
        "id": "EsF-Sva6TNo3",
        "colab_type": "code",
        "colab": {}
      },
      "source": [
        "data[\"y\"] = data[\"caudal_extremo\"].shift(-1)\n",
        "data.dropna(inplace=True)"
      ],
      "execution_count": 0,
      "outputs": []
    },
    {
      "cell_type": "markdown",
      "metadata": {
        "id": "HzY5BwZE4y0N",
        "colab_type": "text"
      },
      "source": [
        "###Features for prediction.\n",
        "\n",
        "Binary Features:\n",
        "    \n",
        "*   caudal_extremo\n",
        "*   precipitaciones_extremo\n",
        "*   temperatura_extremo \n",
        "\n",
        "Features A Normalizar:\n",
        "\n",
        "*   caudal\n",
        "*   precipitaciones\n",
        "*   temperatura\n",
        "*   altura\n",
        "\n",
        "\n",
        "Features to binarize:\n",
        "\n",
        "*   codigo_estacion\n",
        "*   codigo_cuenca\n"
      ]
    },
    {
      "cell_type": "code",
      "metadata": {
        "id": "teuqB6cvG4Hz",
        "colab_type": "code",
        "outputId": "493eb09c-e06d-4ce7-d99b-dccfb1116730",
        "colab": {
          "base_uri": "https://localhost:8080/",
          "height": 136
        }
      },
      "source": [
        "data.columns"
      ],
      "execution_count": 0,
      "outputs": [
        {
          "output_type": "execute_result",
          "data": {
            "text/plain": [
              "Index(['Unnamed: 0', 'codigo_estacion', 'institucion', 'fuente', 'nombre',\n",
              "       'altura', 'latitud', 'longitud', 'codigo_cuenca', 'nombre_sub_cuenca',\n",
              "       'cantidad_observaciones', 'fecha', 'caudal', 'gauge_id', 'gauge_name',\n",
              "       'precip_promedio', 'temp_max_promedio', 'tfecha', 'estacion',\n",
              "       'caudal_extremo', 'precip_promedio_extremo',\n",
              "       'temp_max_promedio_extremo', 'delta', 'next_codigo_estacion', 'y'],\n",
              "      dtype='object')"
            ]
          },
          "metadata": {
            "tags": []
          },
          "execution_count": 46
        }
      ]
    },
    {
      "cell_type": "code",
      "metadata": {
        "id": "_i-0RXEGCMe8",
        "colab_type": "code",
        "outputId": "98e8b8d5-4845-4475-fdc2-1ff4b25c2a6c",
        "colab": {
          "base_uri": "https://localhost:8080/",
          "height": 204
        }
      },
      "source": [
        "import pandas as pd\n",
        "import numpy as np\n",
        "\n",
        "from sklearn.compose import ColumnTransformer\n",
        "from sklearn.pipeline import Pipeline\n",
        "from sklearn.impute import SimpleImputer\n",
        "from sklearn.preprocessing import StandardScaler, OneHotEncoder\n",
        "from sklearn.linear_model import LogisticRegression\n",
        "from sklearn.model_selection import train_test_split, GridSearchCV\n",
        "from sklearn.metrics import classification_report, confusion_matrix, precision_recall_curve\n",
        "np.random.seed(0)\n",
        "\n",
        "# We create the preprocessing pipelines for both numeric and categorical data.\n",
        "numeric_features = ['caudal', 'precip_promedio',\"temp_max_promedio\",\"altura\"]\n",
        "numeric_transformer = Pipeline(steps=[\n",
        "    ('imputer', SimpleImputer(strategy='median')),\n",
        "    ('scaler', StandardScaler())])\n",
        "\n",
        "categorical_features = ['codigo_estacion', 'codigo_cuenca']\n",
        "categorical_transformer = Pipeline(steps=[\n",
        "    ('imputer', SimpleImputer(strategy='constant', fill_value=0)),\n",
        "    ('onehot', OneHotEncoder(handle_unknown='ignore'))])\n",
        "\n",
        "preprocessor = ColumnTransformer(\n",
        "    transformers=[\n",
        "        ('num', numeric_transformer, numeric_features),\n",
        "        ('cat', categorical_transformer, categorical_features)])\n",
        "\n",
        "# Append classifier to preprocessing pipeline.\n",
        "# Now we have a full prediction pipeline.\n",
        "clf = Pipeline(steps=[('preprocessor', preprocessor),\n",
        "                      ('classifier', LogisticRegression(solver='lbfgs'))])\n",
        "\n",
        "X = data[['caudal', 'precip_promedio',\"temp_max_promedio\",\"altura\",'codigo_estacion', 'codigo_cuenca',\"caudal_extremo\", \"precip_promedio\", \"temp_max_promedio\"]]\n",
        "y = data['y']\n",
        "\n",
        "X_train, X_test, y_train, y_test = train_test_split(X, y, test_size=0.2)\n",
        "\n",
        "clf.fit(X_train, y_train)\n",
        "print(classification_report(y_test, clf.predict(X_test)))\n",
        "print(confusion_matrix(y_test, clf.predict(X_test)))\n",
        "\n"
      ],
      "execution_count": 0,
      "outputs": [
        {
          "output_type": "stream",
          "text": [
            "              precision    recall  f1-score   support\n",
            "\n",
            "         0.0       0.97      1.00      0.98     43597\n",
            "         1.0       0.53      0.07      0.13      1338\n",
            "\n",
            "    accuracy                           0.97     44935\n",
            "   macro avg       0.75      0.53      0.56     44935\n",
            "weighted avg       0.96      0.97      0.96     44935\n",
            "\n",
            "[[43513    84]\n",
            " [ 1243    95]]\n"
          ],
          "name": "stdout"
        }
      ]
    },
    {
      "cell_type": "markdown",
      "metadata": {
        "id": "mYYlOxkTMUt3",
        "colab_type": "text"
      },
      "source": [
        "#8"
      ]
    },
    {
      "cell_type": "markdown",
      "metadata": {
        "id": "9LLp8qQr92V0",
        "colab_type": "text"
      },
      "source": [
        "##8a)"
      ]
    },
    {
      "cell_type": "markdown",
      "metadata": {
        "id": "Np88vp9TgpZP",
        "colab_type": "text"
      },
      "source": [
        "We show metrics accuracy, precision, recall and F1. This a problem with class unbalance. We can see that despite the model being bad at predicting the extreme values, accuracy is good, which is a problem with accuracy, that is not a good metric under class unbalance settings. Looking at the metrics and the confusion matrix we can see that model is biased towards the majority class(not a extreme value) and it shows very low recall for the important class(extreme values)"
      ]
    },
    {
      "cell_type": "code",
      "metadata": {
        "id": "fq5IQ6Gsy1Sw",
        "colab_type": "code",
        "outputId": "6e7b0652-7a21-4372-dc5a-f23180c852ab",
        "colab": {
          "base_uri": "https://localhost:8080/",
          "height": 221
        }
      },
      "source": [
        "print(\"Baseline simple prediciendo la medicion del dia anterior\")\n",
        "print(classification_report(y_test, X_test[\"caudal_extremo\"]))\n",
        "print(confusion_matrix(y_test, X_test[\"caudal_extremo\"]))"
      ],
      "execution_count": 0,
      "outputs": [
        {
          "output_type": "stream",
          "text": [
            "Baseline simple prediciendo la medicion del dia anterior\n",
            "              precision    recall  f1-score   support\n",
            "\n",
            "         0.0       0.99      0.99      0.99     43597\n",
            "         1.0       0.74      0.75      0.74      1338\n",
            "\n",
            "    accuracy                           0.98     44935\n",
            "   macro avg       0.87      0.87      0.87     44935\n",
            "weighted avg       0.98      0.98      0.98     44935\n",
            "\n",
            "[[43240   357]\n",
            " [  332  1006]]\n"
          ],
          "name": "stdout"
        }
      ]
    },
    {
      "cell_type": "markdown",
      "metadata": {
        "id": "LUcEARD7958E",
        "colab_type": "text"
      },
      "source": [
        ""
      ]
    },
    {
      "cell_type": "markdown",
      "metadata": {
        "id": "Bg8TNZb-8-Xg",
        "colab_type": "text"
      },
      "source": [
        "##8b) Precision-Recall"
      ]
    },
    {
      "cell_type": "markdown",
      "metadata": {
        "id": "v29zd_0Jf6sU",
        "colab_type": "text"
      },
      "source": [
        "In the cell we plot a precision-recall curve. With the precision-recall curve we can select a threshold to get an specific desired precision or recall."
      ]
    },
    {
      "cell_type": "code",
      "metadata": {
        "id": "99k_wAXo0gZK",
        "colab_type": "code",
        "outputId": "f8bc4bd7-80b8-4abc-ba42-ae925ea750cf",
        "colab": {
          "base_uri": "https://localhost:8080/",
          "height": 312
        }
      },
      "source": [
        "from sklearn.metrics import precision_recall_curve\n",
        "import matplotlib.pyplot as plt\n",
        "from inspect import signature\n",
        "\n",
        "precision, recall, _ = precision_recall_curve(y_test, clf.predict_proba(X_test)[:,1])\n",
        "\n",
        "# In matplotlib < 1.5, plt.fill_between does not have a 'step' argument\n",
        "step_kwargs = ({'step': 'post'}\n",
        "               if 'step' in signature(plt.fill_between).parameters\n",
        "               else {})\n",
        "plt.step(recall, precision, color='b', alpha=0.2,\n",
        "         where='post')\n",
        "plt.fill_between(recall, precision, alpha=0.2, color='b', **step_kwargs)\n",
        "\n",
        "plt.xlabel('Recall')\n",
        "plt.ylabel('Precision')\n",
        "plt.ylim([0.0, 1.0])\n",
        "plt.xlim([0.0, 1.0])\n",
        "plt.title(\"Precision-Recall curve\")\n"
      ],
      "execution_count": 52,
      "outputs": [
        {
          "output_type": "execute_result",
          "data": {
            "text/plain": [
              "Text(0.5, 1.0, 'Precision-Recall curve')"
            ]
          },
          "metadata": {
            "tags": []
          },
          "execution_count": 52
        },
        {
          "output_type": "display_data",
          "data": {
            "image/png": "[encoded data removed]",
            "text/plain": [
              "<Figure size 432x288 with 1 Axes>"
            ]
          },
          "metadata": {
            "tags": []
          }
        }
      ]
    },
    {
      "cell_type": "markdown",
      "metadata": {
        "id": "7SAkdKPMgWAV",
        "colab_type": "text"
      },
      "source": [
        "Lets see which precision do we get if we want to get a 0.7 recall."
      ]
    },
    {
      "cell_type": "code",
      "metadata": {
        "id": "iIvL3Rb11FYw",
        "colab_type": "code",
        "colab": {
          "base_uri": "https://localhost:8080/",
          "height": 34
        },
        "outputId": "228937b5-f295-441d-8c57-61351a21df57"
      },
      "source": [
        "i = 0\n",
        "l = list(recall)\n",
        "while l[i]>0.7:\n",
        "    i += 1\n",
        "precision[i]"
      ],
      "execution_count": 53,
      "outputs": [
        {
          "output_type": "execute_result",
          "data": {
            "text/plain": [
              "0.13870776526378187"
            ]
          },
          "metadata": {
            "tags": []
          },
          "execution_count": 53
        }
      ]
    }
  ]
}